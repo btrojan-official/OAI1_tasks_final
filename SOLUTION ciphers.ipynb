{
  "cells": [
    {
      "cell_type": "markdown",
      "metadata": {
        "id": "Pc0uDfbLDu16"
      },
      "source": [
        "# Szyfrowanie"
      ]
    },
    {
      "cell_type": "markdown",
      "metadata": {
        "id": "cahnj3BkDu1-"
      },
      "source": [
        "![image.png](attachment:image.png)"
      ]
    },
    {
      "cell_type": "markdown",
      "metadata": {
        "id": "aKtMMnoLDu1_"
      },
      "source": [
        "## Wstęp\n",
        "\n",
        "Ludzie od wieków próbowali szyfrować teksty, tak aby postronni ludzie nie byli ich w stanie łatwo zrozumieć. W tym zadaniu będziesz musiała/musiał rozszyfrować tekst powstały w wyniku działania grupy przedszkolaków, które postanowiły zaszyfrować część zawartości biblioteki swoich rodziców, zaklejając naklejkami litery w wybranych linijkach.\n",
        "\n"
      ]
    },
    {
      "cell_type": "markdown",
      "metadata": {
        "id": "xB9_UMyoDu2A"
      },
      "source": [
        "## Zadanie\n",
        "\n",
        "Dzieci zaczęły od przygotowania $n$ worków: po jednym dla każdego unikalnego znaku w całej bibliotece. Chłopcy narysowali $3n$ różnych obrazków, a dziewczynki wydrukowały naklejki z tymi obrazkami: każdy obrazek został wydrukowany w pewnej nieznanej i być może różnej liczbie kopii. Naklejek jest jednak na tyle dużo, że nie skończą się w trakcie zabawy. Następnie, do każdego z przygotowanych worków dzieci wsypały naklejki odpowiadające dokładnie trzem obrazkom. Łącznie wszystkie naklejki znalazły się w którymś worku.\n",
        "\n",
        "W czasie zabawy, dzieci postanowiły zaszyfrować niektóre wersy w książkach. Dla napotkanego znaku, wyciągały losową naklejkę z właściwego dla danego znaku worka i naklejały ją w jego miejsce. Dzieci, jak to dzieci, znudziły się, więc nie wszystkie wersy książek zostały przetworzone w ten sposób. Niestety obrazków nie da się w żaden sposób odkleić, ale być może dzięki analizie układów literek w niezaklejonych tekstach będziemy mogli odtworzyć tekst z pozaklejanych wersów.\n",
        "\n",
        "Napisz funkcję `decipher_corpus(clear_corpus, ciphered_corpus)`, która przyjmuje dwa argumenty:\n",
        "* `clear_corpus`: lista zawierająca niezaszyfrowane stringi $-$ wersy, których nie dotknęły dzieci. Przykładowo:\n",
        "\n",
        "```Python\n",
        "clear_corpus = [\"a tajną . u rzymian niewolnika , który ukradł , \",\n",
        "    \"środka : tam wszystko jasno oświetlone . * i widzę \",\n",
        "    \"się do góry , utracił własność * dążącą do centru \",\n",
        "    \"chciałabym widzieć tego malca tylko na chwilę . słyszałem , \",\n",
        "    \"mości notę , prosząc o uwolnienie z tej usługi , \"]\n",
        "```\n",
        "\n",
        "* `ciphered_corpus`: listę z zaszyfrowanymi wersami $-$ wersy zaklejone naklejkami. Przykładowo:\n",
        "```Python\n",
        "ciphered_corpus = [\"🥥🖕👼🥥🔀🛠👡🐌💸🐌📩🖕🧇🤿🧰🦆🥨🥥🦨🐌🚕🔻🥅🐘🚒🗣🛠🔻🚄🥥🤳🥺🐌🚄👼👲🐤🧰🤳📩🚄🔒🥥🧵🐈🖕🥺🖕\",\n",
        "    \"🥤🔒🚒🚔🚄🦫🐌🦒🐌👼🦫🦆🖕🐘🦓🤿💣🦓🚷👱🧔🖕💐🥥🚭🚕🚒🐌🙉🥤🐘🥨🗿👼🗣🚒🦨🔶🤳💑🖕📈🐌🔻🖕🖊🔻🚔🐅👽🐌\",\n",
        "    \"🦓🔻👽🐌🧵🚒🤳🚥🐛🐤💁🖕🖈🤳🔖👼🧇🦫💯🕰👂🤳🐘👂🥥🚭🛠🚒🚚🛰🤳🧚🐌🧵👠🦔🕶🦈👡🐌🚓🙉🐌🦈🗿🦨🚷🐤🧍🐌\"]\n",
        "```\n",
        "Funkcja ta powinna rozszyfrować listę wersów `ciphered_corpus` zapisaną szyfrem obrazkowym przy użyciu innych, niezaszyforwanych wersów `clear_corpus`. Funkcja powinna zwracać listę rozszyfrowanych wersów."
      ]
    },
    {
      "cell_type": "markdown",
      "metadata": {
        "id": "L7vbpOQbDu2B"
      },
      "source": [
        "## Ewaluacja\n",
        "\n",
        "Za to zadanie możesz otrzymać ocenę między 0, a 1 punktem. Twoja funkcja `decipher_corpus(clear_corpus, ciphered_corpus)` zostanie przetestowana na 4 przypadkach testowych: niezależnych szyfrach. Kryterium oceny dla danego szyfru będzie procent dobrze rozszyfrowanych znaków w tekście (liczba prawidłowo rozszyfrowanych znaków podzielona przez liczbę wszystkich znaków w tekście). Model osiągający dokładność klasyfikacji poniżej 50% otrzyma 0 punktów.\n",
        "\n",
        "Końcowy wynik będzie średnią z wyników dla wszystkich testów i zostanie obliczony według wzoru:\n",
        "\n",
        "$$\\mathrm{score} =  \\frac{1}{4} \\sum_{i=1}^4 2 \\cdot \\max(\\mathrm{accuracy}_i - 0.5, 0)$$\n",
        "\n"
      ]
    },
    {
      "cell_type": "markdown",
      "metadata": {
        "id": "1_X62HCWDu2C"
      },
      "source": [
        "## Ograniczenia\n",
        "- Wywołanie całości Twojego kodu z flagą `FINAL_EVALUATION_MODE` ustawioną na `True`) powinno trwać nie dłużej niż 5 minut na Google Colab **z** GPU.\n",
        "\n",
        "- Twoje rozwiązanie będzie testowane bez dostępu do Internetu."
      ]
    },
    {
      "cell_type": "markdown",
      "metadata": {
        "id": "eF83XzBADu2C"
      },
      "source": [
        "## Dane\n",
        "Dostępne dla ciebie w tym zadaniu dane to:\n",
        "* `clear_lines.txt` - plik, w którym znajdują się wersy z książek, których nie dotykały dzieci - tekst niezaszyfrowany;\n",
        "* `ciphered_lines.txt` - plik, w którym znajduje się 30000 wersów z książek, zaszyfrowanych w opisany wyżej sposób; jest to zbiór, na którym możesz ewaluować swoje rozwiązanie;\n",
        "* `ciphered_lines_ground_truth.txt` - plik, w którym znajdują się odszyfrowane wersy z pliku."
      ]
    },
    {
      "cell_type": "markdown",
      "metadata": {
        "id": "sueRP4ouDu2C"
      },
      "source": [
        "## Uwagi i wskazówki\n",
        "\n",
        "- Zaszyfrowane zostały wszystkie znaki, również spacje, z wyjątkiem znaku nowej linii (nie ma ich w żadnym ze zbiorów).\n",
        "- Trzy przyporządkowane do liter obrazki niekoniecznie mają równe prawdopodobieństwo bycia naklejonymi w miejscu danej literki, czyli niektóre obrazki mogły być użyte częściej niż pozostałe z trójki.\n",
        "- Może się przydać:\n",
        "  ```python\n",
        "  from gensim.models import Word2Vec as Letter2Vec\n",
        "  ```\n",
        "  "
      ]
    },
    {
      "cell_type": "markdown",
      "metadata": {
        "id": "oMBrvIjvDu2D"
      },
      "source": [
        "## Pliki zgłoszeniowe\n",
        "Tylko ten notebook."
      ]
    },
    {
      "cell_type": "markdown",
      "metadata": {
        "id": "CMnX4LuuDu2E"
      },
      "source": [
        "## Ewaluacja\n",
        "Pamiętaj, że podczas sprawdzania flaga `FINAL_EVALUATION_MODE` zostanie ustawiona na `True`. Za pomocą skryptu `validation_script.py` będziesz mógł upewnić się, że Twoje rozwiązanie zostanie prawidłowo wykonane podczas oceniania."
      ]
    },
    {
      "cell_type": "markdown",
      "metadata": {
        "id": "-lkWx6C3Du2F"
      },
      "source": [
        "# Kod startowy"
      ]
    },
    {
      "cell_type": "code",
      "execution_count": 1,
      "metadata": {
        "id": "MlQ525-hDu2G"
      },
      "outputs": [],
      "source": [
        "FINAL_EVALUATION_MODE = False  # Zmienimy tę wartość na True"
      ]
    },
    {
      "cell_type": "code",
      "execution_count": 2,
      "metadata": {
        "id": "wHOIwYeBDu2G"
      },
      "outputs": [],
      "source": [
        "from gensim.models import Word2Vec as Letter2Vec\n",
        "import torch\n",
        "import numpy as np\n",
        "import copy"
      ]
    },
    {
      "cell_type": "code",
      "execution_count": 9,
      "metadata": {
        "colab": {
          "base_uri": "https://localhost:8080/"
        },
        "id": "lvqfOKLQDu2H",
        "outputId": "ef88018a-972a-46b3-8d2e-520fba4fad2a"
      },
      "outputs": [
        {
          "name": "stderr",
          "output_type": "stream",
          "text": [
            "'unzip' is not recognized as an internal or external command,\n",
            "operable program or batch file.\n"
          ]
        }
      ],
      "source": [
        "if not FINAL_EVALUATION_MODE:\n",
        "    ! gdown https://drive.google.com/uc?id=1smu8e_muUU2YDPQvZ5oT2VW46tg6zP5F\n",
        "    # ! gdown https://drive.google.com/uc?id=1uPacHqw6qEkECBIBvertRib469SHOMc_\n",
        "    # ! gdown https://drive.google.com/uc?id=1VAGP-8s6yhlubtvJF0hHgy30H5NmUjn3\n",
        "    ! unzip -o cipher.zip"
      ]
    },
    {
      "cell_type": "markdown",
      "metadata": {
        "id": "JDwROGeODu2H"
      },
      "source": [
        "## Ładowanie danych"
      ]
    },
    {
      "cell_type": "code",
      "execution_count": 10,
      "metadata": {
        "id": "zhsBWVcEDu2H"
      },
      "outputs": [
        {
          "ename": "UnicodeDecodeError",
          "evalue": "'charmap' codec can't decode byte 0x83 in position 2946: character maps to <undefined>",
          "output_type": "error",
          "traceback": [
            "\u001b[1;31m---------------------------------------------------------------------------\u001b[0m",
            "\u001b[1;31mUnicodeDecodeError\u001b[0m                        Traceback (most recent call last)",
            "Cell \u001b[1;32mIn[10], line 6\u001b[0m\n\u001b[0;32m      3\u001b[0m ciphered_file_path \u001b[38;5;241m=\u001b[39m \u001b[38;5;124m\"\u001b[39m\u001b[38;5;124mciphered_lines.txt\u001b[39m\u001b[38;5;124m\"\u001b[39m\n\u001b[0;32m      4\u001b[0m solutions_file_path \u001b[38;5;241m=\u001b[39m \u001b[38;5;124m\"\u001b[39m\u001b[38;5;124mciphered_lines_ground_truth.txt\u001b[39m\u001b[38;5;124m\"\u001b[39m\n\u001b[1;32m----> 6\u001b[0m corpus_clear \u001b[38;5;241m=\u001b[39m \u001b[43m[\u001b[49m\u001b[43mline\u001b[49m\u001b[38;5;241;43m.\u001b[39;49m\u001b[43mstrip\u001b[49m\u001b[43m(\u001b[49m\u001b[43m)\u001b[49m\u001b[38;5;241;43m.\u001b[39;49m\u001b[43mlower\u001b[49m\u001b[43m(\u001b[49m\u001b[43m)\u001b[49m\u001b[43m \u001b[49m\u001b[38;5;28;43;01mfor\u001b[39;49;00m\u001b[43m \u001b[49m\u001b[43mline\u001b[49m\u001b[43m \u001b[49m\u001b[38;5;129;43;01min\u001b[39;49;00m\u001b[43m \u001b[49m\u001b[38;5;28;43mopen\u001b[39;49m\u001b[43m(\u001b[49m\u001b[43mclear_file_path\u001b[49m\u001b[43m)\u001b[49m\u001b[43m]\u001b[49m\n\u001b[0;32m      7\u001b[0m corpus_ciphered \u001b[38;5;241m=\u001b[39m [line\u001b[38;5;241m.\u001b[39mstrip()\u001b[38;5;241m.\u001b[39mlower() \u001b[38;5;28;01mfor\u001b[39;00m line \u001b[38;5;129;01min\u001b[39;00m \u001b[38;5;28mopen\u001b[39m(ciphered_file_path)]\n\u001b[0;32m      8\u001b[0m corpus_ground_truth \u001b[38;5;241m=\u001b[39m [line\u001b[38;5;241m.\u001b[39mrstrip(\u001b[38;5;124m'\u001b[39m\u001b[38;5;130;01m\\n\u001b[39;00m\u001b[38;5;124m'\u001b[39m)\u001b[38;5;241m.\u001b[39mlower() \u001b[38;5;28;01mfor\u001b[39;00m line \u001b[38;5;129;01min\u001b[39;00m \u001b[38;5;28mopen\u001b[39m(solutions_file_path)]\n",
            "File \u001b[1;32mc:\\Users\\GAMER\\AppData\\Local\\Programs\\Python\\Python312\\Lib\\encodings\\cp1250.py:23\u001b[0m, in \u001b[0;36mIncrementalDecoder.decode\u001b[1;34m(self, input, final)\u001b[0m\n\u001b[0;32m     22\u001b[0m \u001b[38;5;28;01mdef\u001b[39;00m \u001b[38;5;21mdecode\u001b[39m(\u001b[38;5;28mself\u001b[39m, \u001b[38;5;28minput\u001b[39m, final\u001b[38;5;241m=\u001b[39m\u001b[38;5;28;01mFalse\u001b[39;00m):\n\u001b[1;32m---> 23\u001b[0m     \u001b[38;5;28;01mreturn\u001b[39;00m \u001b[43mcodecs\u001b[49m\u001b[38;5;241;43m.\u001b[39;49m\u001b[43mcharmap_decode\u001b[49m\u001b[43m(\u001b[49m\u001b[38;5;28;43minput\u001b[39;49m\u001b[43m,\u001b[49m\u001b[38;5;28;43mself\u001b[39;49m\u001b[38;5;241;43m.\u001b[39;49m\u001b[43merrors\u001b[49m\u001b[43m,\u001b[49m\u001b[43mdecoding_table\u001b[49m\u001b[43m)\u001b[49m[\u001b[38;5;241m0\u001b[39m]\n",
            "\u001b[1;31mUnicodeDecodeError\u001b[0m: 'charmap' codec can't decode byte 0x83 in position 2946: character maps to <undefined>"
          ]
        }
      ],
      "source": [
        "######################### NIE ZMIENIAJ TEJ KOMÓRKI ##########################\n",
        "clear_file_path = \"clear_lines.txt\"\n",
        "ciphered_file_path = \"ciphered_lines.txt\"\n",
        "solutions_file_path = \"ciphered_lines_ground_truth.txt\"\n",
        "\n",
        "corpus_clear = [line.strip().lower() for line in open(clear_file_path)]\n",
        "corpus_ciphered = [line.strip().lower() for line in open(ciphered_file_path)]\n",
        "corpus_ground_truth = [line.rstrip('\\n').lower() for line in open(solutions_file_path)]"
      ]
    },
    {
      "cell_type": "markdown",
      "metadata": {
        "id": "xhFZ-vgjDu2I"
      },
      "source": [
        "# Twoje rozwiązanie\n",
        "\n",
        "To jest jedyna sekcja, w której musisz coś zrobić."
      ]
    },
    {
      "cell_type": "code",
      "execution_count": null,
      "metadata": {
        "id": "-FOhY7FFDu2I"
      },
      "outputs": [],
      "source": [
        "def decipher_corpus(clear_corpus, ciphered_corpus):\n",
        "\n",
        "    def get_uniques(list_of_lists):\n",
        "        flattened_list = [char for sublist in list_of_lists for char in sublist]\n",
        "        return list(set(flattened_list))\n",
        "\n",
        "    print(\"Preparing data for Letter2Vec (Word2Vec)\")\n",
        "    data = []\n",
        "    for line in ciphered_corpus:\n",
        "        data.append([emojis for emojis in line])\n",
        "\n",
        "    print(\"Training Letter2Vec (Word2Vec) model\")\n",
        "    model = Letter2Vec(sentences=data, vector_size=256, window=2, min_count=2, sg=0)\n",
        "\n",
        "    print(\"Extracting unique characters\")\n",
        "    unique_letters = get_uniques(clear_corpus)\n",
        "    unique_emojis = get_uniques(ciphered_corpus)\n",
        "\n",
        "    print(\"Counting letters and emojis occurences\")\n",
        "    letters_counts = {char: sum(sentence.count(char) for sentence in clear_corpus) for char in unique_letters}\n",
        "    emojis_counts = {char: sum(sentence.count(char) for sentence in ciphered_corpus) for char in unique_emojis}\n",
        "\n",
        "    print(\"Counting probablity for each letter and sorting list of probablities\")\n",
        "    sorted_letters_probability = copy.deepcopy(letters_counts)\n",
        "\n",
        "    letter_count = sum([len(line) for line in clear_corpus])\n",
        "    for key, value in letters_counts.items():\n",
        "        sorted_letters_probability[key] = value / letter_count\n",
        "\n",
        "    sorted_letters_probability = sorted(sorted_letters_probability.items(), key=lambda item: item[1], reverse=True)\n",
        "\n",
        "    print(\"Counting probablity for each emoji trio and sorting list of probablities\")\n",
        "    sorted_emojis_probability = copy.deepcopy(emojis_counts)\n",
        "\n",
        "    emoji_count = sum([len(line) for line in ciphered_corpus])\n",
        "    for key, value in emojis_counts.items():\n",
        "        if key not in model.wv:\n",
        "            sorted_emojis_probability[key] = value / emoji_count\n",
        "        else:\n",
        "            similar_emojis = model.wv.most_similar(positive=[model.wv[key]], topn=3)\n",
        "            if similar_emojis[2][1] > 0.9:\n",
        "                sorted_emojis_probability[key] = (emojis_counts[similar_emojis[0][0]] +  emojis_counts[similar_emojis[1][0]] +  emojis_counts[similar_emojis[2][0]]) / emoji_count\n",
        "            elif similar_emojis[1][1] > 0.9:\n",
        "                sorted_emojis_probability[key] = (emojis_counts[similar_emojis[0][0]] +  emojis_counts[similar_emojis[1][0]]) / emoji_count\n",
        "            else:\n",
        "                sorted_emojis_probability[key] = value / emoji_count\n",
        "\n",
        "    sorted_emojis_probability = sorted(sorted_emojis_probability.items(), key=lambda item: item[1], reverse=True)\n",
        "\n",
        "    print(\"Decoding ciphered text\")\n",
        "\n",
        "    deciphered_corpus = ciphered_corpus\n",
        "    prev_value = sorted_emojis_probability[0][1]\n",
        "    current_letter_id = 0\n",
        "\n",
        "    for emoji, value in sorted_emojis_probability:\n",
        "        if prev_value == value:\n",
        "            deciphered_corpus = [line.replace(emoji, sorted_letters_probability[current_letter_id][0]) for line in deciphered_corpus]\n",
        "        else:\n",
        "            prev_value = value\n",
        "            current_letter_id += 1\n",
        "            deciphered_corpus = [line.replace(emoji, sorted_letters_probability[current_letter_id][0]) for line in deciphered_corpus]\n",
        "\n",
        "    return deciphered_corpus"
      ]
    },
    {
      "cell_type": "markdown",
      "metadata": {
        "id": "DsUGWjwBDu2J"
      },
      "source": [
        "# Ewaluacja"
      ]
    },
    {
      "cell_type": "markdown",
      "metadata": {
        "id": "g5x3mYaWDu2J"
      },
      "source": [
        "W czasie oceny rozwiązania, Twoja funkcja `decipher_corpus` zostanie wywołana w sposób zbliżony do poniższego. Użyte zostaną jednak inne dane, testowe.\n",
        "\n",
        "Upewnij się przed wysłaniem, że po ustawieniu flagi `FINAL_EVALUATION_MODE = True` cały notebook wykonuje się od początku do końca (polecenie `Run All`) bez błędów i bez ingerencji użytkownika. Możesz uruchomić również skrypt walidacyjny `validation_script.py`, który wykonuje cały notebook i ocenia zdefiniowaną w nim funkcję `decipher_corpus`."
      ]
    },
    {
      "cell_type": "code",
      "execution_count": null,
      "metadata": {
        "colab": {
          "base_uri": "https://localhost:8080/"
        },
        "id": "QZLf1GcIDu2K",
        "outputId": "138a144a-f6c5-4760-fec0-7a7a3c5fab5e"
      },
      "outputs": [
        {
          "name": "stdout",
          "output_type": "stream",
          "text": [
            "Preparing data for Letter2Vec (Word2Vec)\n",
            "Training Letter2Vec (Word2Vec) model\n",
            "Extracting unique characters\n",
            "Counting letters and emojis occurences\n",
            "Counting probablity for each letter and sorting list of probablities\n",
            "Counting probablity for each emoji trio and sorting list of probablities\n",
            "Decoding ciphered text\n",
            "Accuracy: 0.896349230324604\n",
            "Your score is 0.792698460649208 point\n"
          ]
        }
      ],
      "source": [
        "######################### NIE ZMIENIAJ TEJ KOMÓRKI ##########################\n",
        "\n",
        "def accuracy_metric(original_lines, deciphered_lines):\n",
        "    original_str = \"\".join(original_lines)\n",
        "    deciphered_str = \"\".join(deciphered_lines)\n",
        "    assert len(original_str) == len(deciphered_str)\n",
        "    good_char = sum(int(a == b) for a, b in zip(original_str, deciphered_str))\n",
        "    return good_char / len(original_str)\n",
        "\n",
        "\n",
        "if not FINAL_EVALUATION_MODE:\n",
        "    deciphered_file = decipher_corpus(corpus_clear, corpus_ciphered)\n",
        "    accuracy = accuracy_metric(corpus_ground_truth, deciphered_file)\n",
        "    score = 2 * max(accuracy - 0.5, 0.0)\n",
        "    print(f\"Accuracy: {accuracy}\")\n",
        "    print(f'Your score is {score} point')"
      ]
    }
  ],
  "metadata": {
    "colab": {
      "provenance": []
    },
    "kernelspec": {
      "display_name": "Python 3 (ipykernel)",
      "language": "python",
      "name": "python3"
    },
    "language_info": {
      "codemirror_mode": {
        "name": "ipython",
        "version": 3
      },
      "file_extension": ".py",
      "mimetype": "text/x-python",
      "name": "python",
      "nbconvert_exporter": "python",
      "pygments_lexer": "ipython3",
      "version": "3.12.5"
    }
  },
  "nbformat": 4,
  "nbformat_minor": 0
}
